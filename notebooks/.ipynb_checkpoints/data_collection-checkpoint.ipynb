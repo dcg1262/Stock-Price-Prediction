{
 "cells": [
  {
   "cell_type": "code",
   "execution_count": null,
   "id": "864d16f4",
   "metadata": {},
   "outputs": [],
   "source": [
    "import yfinance as yf\n",
    "import pandas as pd\n",
    "import matplotlib.pyplot as plt\n",
    "\n",
    "# Download AAPL stock data\n",
    "ticker = \"AAPL\"\n",
    "data = yf.download(ticker, start=\"2010-01-01\", end=\"2024-12-31\")\n",
    "\n",
    "# Save raw data to CSV for backup\n",
    "data.to_csv(\"../data/aapl_raw.csv\")\n",
    "\n",
    "# Quick view of data\n",
    "print(data.head())\n",
    "\n",
    "# Basic plot of Closing Price\n",
    "plt.figure(figsize=(12,6))\n",
    "plt.plot(data['Close'])\n",
    "plt.title(f\"{ticker} Closing Price (2010-2024)\")\n",
    "plt.xlabel(\"Date\")\n",
    "plt.ylabel(\"Price (USD)\")\n",
    "plt.show()\n"
   ]
  }
 ],
 "metadata": {
  "kernelspec": {
   "display_name": "Python 3 (ipykernel)",
   "language": "python",
   "name": "python3"
  },
  "language_info": {
   "codemirror_mode": {
    "name": "ipython",
    "version": 3
   },
   "file_extension": ".py",
   "mimetype": "text/x-python",
   "name": "python",
   "nbconvert_exporter": "python",
   "pygments_lexer": "ipython3",
   "version": "3.11.5"
  }
 },
 "nbformat": 4,
 "nbformat_minor": 5
}
